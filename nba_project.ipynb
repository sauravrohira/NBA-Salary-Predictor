{
  "nbformat": 4,
  "nbformat_minor": 0,
  "metadata": {
    "colab": {
      "name": "nba-project",
      "provenance": [],
      "collapsed_sections": []
    },
    "kernelspec": {
      "name": "python3",
      "display_name": "Python 3"
    },
    "accelerator": "GPU"
  },
  "cells": [
    {
      "cell_type": "code",
      "metadata": {
        "id": "WdxTOhzTj9UZ"
      },
      "source": [
        "import numpy as np\n",
        "import pandas as pd\n",
        "from sklearn.linear_model import LinearRegression\n",
        "from sklearn import metrics as sm\n",
        "from sklearn.model_selection import cross_val_score\n",
        "from sklearn.metrics import SCORERS\n",
        "from hyperopt import hp, fmin, tpe, Trials, STATUS_OK\n",
        "import matplotlib.pyplot as plt\n",
        "import xgboost as xgb\n",
        "from sklearn.model_selection import KFold\n"
      ],
      "execution_count": 3,
      "outputs": []
    },
    {
      "cell_type": "code",
      "metadata": {
        "id": "h9TtTYCAlnsr",
        "outputId": "a54d250e-1cdf-44a8-f159-b59e8ce0eb95",
        "colab": {
          "base_uri": "https://localhost:8080/",
          "height": 34
        }
      },
      "source": [
        "from google.colab import drive\n",
        "drive.mount('drive')"
      ],
      "execution_count": 4,
      "outputs": [
        {
          "output_type": "stream",
          "text": [
            "Mounted at drive\n"
          ],
          "name": "stdout"
        }
      ]
    },
    {
      "cell_type": "code",
      "metadata": {
        "id": "Z7uIKDU2ueU3"
      },
      "source": [
        "#function to test accuracy\n",
        "def print_error(regressor, X_train, y_train, X_test, y_test):\n",
        "  train_pred = regressor.predict(X_train)\n",
        "  test_pred = regressor.predict(X_test)\n",
        "  print(\"train rmse error: \", sm.mean_squared_error(y_train,train_pred, squared=False))\n",
        "  print(\"train r2 error: \", sm.r2_score(y_train,train_pred))\n",
        "  print(\"test rmse error: \", sm.mean_squared_error(y_test,test_pred, squared=False))\n",
        "  print(\"test r2 error: \", sm.r2_score(y_test,test_pred))\n",
        "\n",
        "\n"
      ],
      "execution_count": 5,
      "outputs": []
    },
    {
      "cell_type": "code",
      "metadata": {
        "id": "mz14N-yCmHwe"
      },
      "source": [
        "#load dataset\n",
        "X_train = np.loadtxt('/content/drive/My Drive/nba-project-data/train/X.csv',delimiter=',', skiprows=1)\n",
        "y_train = np.loadtxt('/content/drive/My Drive/nba-project-data/train/y.csv',delimiter=',', skiprows=1)\n",
        "X_test = np.loadtxt('/content/drive/My Drive/nba-project-data/test/X.csv',delimiter=',', skiprows=1)\n",
        "y_test = np.loadtxt('/content/drive/My Drive/nba-project-data/test/y.csv',delimiter=',', skiprows=1)\n",
        "X_final = np.loadtxt('/content/drive/My Drive/nba-project-data/final/X.csv',delimiter=',', skiprows=1)\n",
        "y_final = np.loadtxt('/content/drive/My Drive/nba-project-data/final/y.csv',delimiter=',', skiprows=1)"
      ],
      "execution_count": 6,
      "outputs": []
    },
    {
      "cell_type": "markdown",
      "metadata": {
        "id": "9NV1YJ0uI0Am"
      },
      "source": [
        "Model 1: Linear Regression"
      ]
    },
    {
      "cell_type": "code",
      "metadata": {
        "id": "2hCPhlYMnPwx",
        "outputId": "0c20dfce-3087-4da9-a890-b7b6d0bb93c7",
        "colab": {
          "base_uri": "https://localhost:8080/",
          "height": 340
        }
      },
      "source": [
        "linear_regressor = LinearRegression()\n",
        "linear_regressor.fit(X_train, y_train)\n",
        "print(linear_regressor.coef_)\n",
        "print_error(linear_regressor, X_train, y_train, X_test,y_test)\n",
        "print(linear_regressor.score(X_test, y_test))\n",
        "\n"
      ],
      "execution_count": 7,
      "outputs": [
        {
          "output_type": "stream",
          "text": [
            "[-7.49769711e-02 -6.25875888e-02 -6.66417107e-02 -6.65994166e-02\n",
            " -6.75333076e-02 -9.04974074e-02 -3.59187891e-02  1.72968941e-02\n",
            "  5.81409308e-03 -1.56774678e+00  3.68069095e+00 -4.88025296e+00\n",
            " -2.66007886e+00 -2.91305526e+00  8.41676337e-02 -7.71428122e-01\n",
            " -3.02478031e+00  4.56071665e-01  1.09334659e+01  1.67699058e-02\n",
            " -4.43244159e-01 -2.38483410e-01 -2.73936940e+00 -2.00826139e+00\n",
            "  2.86161357e+00  7.28478867e-01 -1.39456305e+00  1.03570460e+00\n",
            "  5.49139419e-01 -1.51243656e+00  9.81760780e-01 -2.08858831e-01\n",
            " -5.93753635e+00 -6.91297187e-01  7.21020183e-01 -9.11340860e-02\n",
            " -1.48311238e-01  1.83855116e-01  2.71768014e-01 -1.10186394e-01\n",
            "  5.23961139e-03  1.23907180e-01  2.11597052e+00  2.07722430e+00\n",
            " -1.56275742e+00  9.02645340e+00 -3.82854343e+00 -3.68952472e+00\n",
            "  3.83866473e+00 -6.08577959e-01  5.77997637e-02  4.92078910e-02\n",
            "  7.25104145e-01 -1.20782114e-01]\n",
            "train rmse error:  4.86482180052702\n",
            "train r2 error:  0.6108929437069264\n",
            "test rmse error:  4.8980813171311395\n",
            "test r2 error:  0.62759071319472\n",
            "0.62759071319472\n"
          ],
          "name": "stdout"
        }
      ]
    },
    {
      "cell_type": "markdown",
      "metadata": {
        "id": "InMCFN4tI5wS"
      },
      "source": [
        "Model 2: XGBoost"
      ]
    },
    {
      "cell_type": "markdown",
      "metadata": {
        "id": "opAyGAW5Kbol"
      },
      "source": [
        "Part 1: Hyperopt for Hyperparameter Tuning"
      ]
    },
    {
      "cell_type": "code",
      "metadata": {
        "id": "FF8It08VIrgn",
        "outputId": "9049f398-18a6-4c1b-8159-03ce2f351c29",
        "colab": {
          "base_uri": "https://localhost:8080/",
          "height": 71
        }
      },
      "source": [
        "\n",
        "#set up input space of xgboost hyperparameters\n",
        "space={ 'n_estimators': 1000,\n",
        "        'max_depth': hp.quniform(\"max_depth\", 3, 18, 1),\n",
        "        'gamma': hp.uniform ('gamma', 1,9),\n",
        "        'reg_alpha' : hp.quniform('reg_alpha', 40,180,1),\n",
        "        'reg_lambda' : hp.uniform('reg_lambda', 0,1),\n",
        "        'colsample_bytree' : hp.uniform('colsample_bytree', 0.5,1),\n",
        "        'min_child_weight' : hp.quniform('min_child_weight', 0, 10, 1),       \n",
        "        }\n",
        "#rmse-scorer:\n",
        "def rmse(estimator, X, y):\n",
        "  y_pred = estimator.predict(X)\n",
        "  return sm.mean_squared_error(y, y_pred, squared=False)\n",
        "\n",
        "#set up objective function\n",
        "def hp_tuning(space):\n",
        "  XGB_regressor = xgb.XGBRegressor( n_estimators =space['n_estimators'], \n",
        "                                    max_depth = int(space['max_depth']), \n",
        "                                    gamma = space['gamma'],\n",
        "                                    reg_alpha = int(space['reg_alpha']),\n",
        "                                    min_child_weight=space['min_child_weight'],\n",
        "                                    colsample_bytree=space['colsample_bytree'],\n",
        "                                    objective='reg:squarederror,\n",
        "                                    learning_rate)\n",
        "  \n",
        "  cv_score = np.mean(cross_val_score(XGB_regressor, X_train, y_train, cv=10, scoring=rmse))\n",
        "  return {'loss':cv_score, 'status': STATUS_OK}\n",
        "\n",
        "trials=Trials()\n",
        "\n",
        "#perform tuning\n",
        "best = fmin(fn=hp_tuning,\n",
        "            space=space,\n",
        "            algo=tpe.suggest,\n",
        "            max_evals=100, \n",
        "            trials=trials)\n",
        "print(best)\n",
        "  "
      ],
      "execution_count": 8,
      "outputs": [
        {
          "output_type": "stream",
          "text": [
            "100%|██████████| 100/100 [1:01:24<00:00, 36.84s/it, best loss: 4.095423337665675]\n",
            "{'colsample_bytree': 0.9569379116779869, 'gamma': 5.141912030539592, 'max_depth': 5.0, 'min_child_weight': 1.0, 'reg_alpha': 103.0, 'reg_lambda': 0.6429136368345092}\n"
          ],
          "name": "stdout"
        }
      ]
    },
    {
      "cell_type": "code",
      "metadata": {
        "id": "QJQhLIibti-A",
        "outputId": "762c3bd0-1680-448b-e1fe-95a0bbbf356f",
        "colab": {
          "base_uri": "https://localhost:8080/",
          "height": 935
        }
      },
      "source": [
        "model = xgb.XGBRegressor( n_estimators =1000, \n",
        "                                    max_depth = int(best['max_depth']), \n",
        "                                    gamma = best['gamma'],\n",
        "                                    reg_alpha = int(best['reg_alpha']),\n",
        "                                    min_child_weight=best['min_child_weight'],\n",
        "                                    colsample_bytree=best['colsample_bytree'],\n",
        "                                    objective='reg:squarederror')\n",
        "model.fit(X_train, y_train)\n",
        "df = pd.read_csv('/content/drive/My Drive/nba-project-data/train/X.csv',delimiter=',')\n",
        "imp = model.feature_importances_\n",
        "columns = df.columns\n",
        "imp, columns = zip(*sorted(zip(imp, columns),reverse=True))\n",
        "for i,_ in enumerate(columns):\n",
        "  print('{}: {}'.format(columns[i],imp[i]))"
      ],
      "execution_count": 22,
      "outputs": [
        {
          "output_type": "stream",
          "text": [
            "PTS: 0.2736038267612457\n",
            "FG: 0.21478089690208435\n",
            "MP: 0.1534663438796997\n",
            "YearsPro: 0.06920067965984344\n",
            "DRB: 0.04899637773633003\n",
            "FGA: 0.04192399978637695\n",
            "2P: 0.024326307699084282\n",
            "TOV: 0.018723685294389725\n",
            "FTA: 0.01759047619998455\n",
            "2PA: 0.014656401239335537\n",
            "TRB: 0.011863085441291332\n",
            "PER: 0.007199614308774471\n",
            "Age: 0.005950266495347023\n",
            "G: 0.00509476475417614\n",
            "GS: 0.004207727499306202\n",
            "Height: 0.0041333953849971294\n",
            "PF: 0.003961632028222084\n",
            "DWS: 0.003889830783009529\n",
            "STL%: 0.003620442468672991\n",
            "PG%: 0.0035661086440086365\n",
            "BLK%: 0.0033804248087108135\n",
            "C%: 0.003286132588982582\n",
            "AST: 0.003215471049770713\n",
            "OBPM: 0.0032105809077620506\n",
            "WS: 0.0027355875354260206\n",
            "PF%: 0.002666639629751444\n",
            "SF%: 0.0026212921366095543\n",
            "Weight: 0.0026195866521447897\n",
            "eFG%: 0.0024647237733006477\n",
            "USG%: 0.0023909476585686207\n",
            "DRB%: 0.002351227216422558\n",
            "3P%: 0.0023233452811837196\n",
            "STL: 0.002297047758474946\n",
            "Season: 0.00221514655277133\n",
            "WS/48: 0.0021301249507814646\n",
            "DBPM: 0.0021258462220430374\n",
            "FTr: 0.002041521715000272\n",
            "BPM: 0.002016957849264145\n",
            "BLK: 0.0020163182634860277\n",
            "3PAr: 0.0018782787956297398\n",
            "FG%: 0.001731432625092566\n",
            "ORB: 0.0016741249710321426\n",
            "FT%: 0.001641819137148559\n",
            "TRB%: 0.0015851729549467564\n",
            "2P%: 0.0015709768049418926\n",
            "3PA: 0.0014273690758273005\n",
            "SG%: 0.001367755001410842\n",
            "ORB%: 0.0013626530999317765\n",
            "OWS: 0.0013512877048924565\n",
            "TOV%: 0.0012279481161385775\n",
            "TS%: 0.0011688879458233714\n",
            "3P: 0.0011315088486298919\n",
            "FT: 0.0011209556832909584\n",
            "VORP: 0.0008949586772359908\n"
          ],
          "name": "stdout"
        }
      ]
    }
  ]
}